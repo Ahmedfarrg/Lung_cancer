{
 "cells": [
  {
   "cell_type": "code",
   "execution_count": 1,
   "id": "8bf0bd5b",
   "metadata": {
    "execution": {
     "iopub.execute_input": "2024-01-07T23:47:10.807921Z",
     "iopub.status.busy": "2024-01-07T23:47:10.807560Z",
     "iopub.status.idle": "2024-01-07T23:47:32.217014Z",
     "shell.execute_reply": "2024-01-07T23:47:32.216049Z"
    },
    "papermill": {
     "duration": 21.417212,
     "end_time": "2024-01-07T23:47:32.219549",
     "exception": false,
     "start_time": "2024-01-07T23:47:10.802337",
     "status": "completed"
    },
    "tags": []
   },
   "outputs": [],
   "source": [
    "import os\n",
    "import cv2\n",
    "main_dir = \"/kaggle/input/dataaseet/The IQ-OTHNCCD lung cancer dataset\"\n",
    "class_names = os.listdir(main_dir)\n",
    "\n",
    "X_train=[]\n",
    "y_train=[]\n",
    "\n",
    "for class_name in class_names:\n",
    "    class_dir = os.path.join(main_dir, class_name)\n",
    "    for image_file in os.listdir(class_dir):\n",
    "        image_path = os.path.join(class_dir, image_file)\n",
    "        image = cv2.imread(image_path)\n",
    "        if image is not None:\n",
    "            image = cv2.resize(image, (299, 299))\n",
    "            X_train.append(image)\n",
    "            y_train.append(class_name)"
   ]
  },
  {
   "cell_type": "code",
   "execution_count": 2,
   "id": "9bb87839",
   "metadata": {
    "execution": {
     "iopub.execute_input": "2024-01-07T23:47:32.228563Z",
     "iopub.status.busy": "2024-01-07T23:47:32.228230Z",
     "iopub.status.idle": "2024-01-07T23:47:45.392529Z",
     "shell.execute_reply": "2024-01-07T23:47:45.391346Z"
    },
    "papermill": {
     "duration": 13.17156,
     "end_time": "2024-01-07T23:47:45.395253",
     "exception": false,
     "start_time": "2024-01-07T23:47:32.223693",
     "status": "completed"
    },
    "tags": []
   },
   "outputs": [
    {
     "name": "stderr",
     "output_type": "stream",
     "text": [
      "/opt/conda/lib/python3.10/site-packages/scipy/__init__.py:146: UserWarning: A NumPy version >=1.16.5 and <1.23.0 is required for this version of SciPy (detected version 1.24.3\n",
      "  warnings.warn(f\"A NumPy version >={np_minversion} and <{np_maxversion}\"\n"
     ]
    }
   ],
   "source": [
    "import tensorflow as tf\n",
    "from tensorflow.keras.preprocessing.image import ImageDataGenerator\n",
    "import numpy as np\n",
    "from sklearn.model_selection import train_test_split\n",
    "X_train, X_test, y_train, y_test  = train_test_split( X_train, y_train, test_size=0.3,  stratify=y_train ,random_state=42)"
   ]
  },
  {
   "cell_type": "code",
   "execution_count": 3,
   "id": "b5c92c48",
   "metadata": {
    "execution": {
     "iopub.execute_input": "2024-01-07T23:47:45.404099Z",
     "iopub.status.busy": "2024-01-07T23:47:45.403501Z",
     "iopub.status.idle": "2024-01-07T23:49:02.769785Z",
     "shell.execute_reply": "2024-01-07T23:49:02.768832Z"
    },
    "papermill": {
     "duration": 77.373245,
     "end_time": "2024-01-07T23:49:02.772247",
     "exception": false,
     "start_time": "2024-01-07T23:47:45.399002",
     "status": "completed"
    },
    "tags": []
   },
   "outputs": [],
   "source": [
    "import tensorflow as tf\n",
    "from tensorflow.keras.preprocessing.image import ImageDataGenerator\n",
    "import numpy as np\n",
    "\n",
    "# Create an instance of the ImageDataGenerator\n",
    "datagen = ImageDataGenerator(\n",
    "    rotation_range=10,  # Random rotation between -10 and 10 degrees\n",
    "    width_shift_range=0.1,  # Random horizontal shift of up to 10% of the width\n",
    "    height_shift_range=0.1,  # Random vertical shift of up to 10% of the height\n",
    "    shear_range=0.1,  # Random shearing transformation with a maximum shear of 10%\n",
    "    zoom_range=0.1,  # Random zoom between 90% and 110%\n",
    "    horizontal_flip=True,  # Random horizontal flip\n",
    "    vertical_flip=True  # Random vertical flip\n",
    ")\n",
    "\n",
    "# Augment each image 5 times\n",
    "augmented_images = []\n",
    "augmented_labels = []\n",
    "for image, label in zip((X_train), (y_train)):\n",
    "    i = 0\n",
    "    for batch in datagen.flow(tf.expand_dims(image, axis=0), batch_size=10):\n",
    "        augmented_image = tf.squeeze(batch, axis=0)\n",
    "        augmented_images.append(augmented_image)\n",
    "        augmented_labels.append(label)\n",
    "        i += 1\n",
    "        if i >= 3:  # stop after augmenting 5 copies\n",
    "            break\n",
    "\n",
    "# Convert the augmented images to a numpy array\n",
    "augmented_images = np.array(augmented_images)\n",
    "augmented_labels = np.array(augmented_labels)"
   ]
  },
  {
   "cell_type": "code",
   "execution_count": 4,
   "id": "24034b01",
   "metadata": {
    "execution": {
     "iopub.execute_input": "2024-01-07T23:49:02.781173Z",
     "iopub.status.busy": "2024-01-07T23:49:02.780837Z",
     "iopub.status.idle": "2024-01-07T23:49:05.246777Z",
     "shell.execute_reply": "2024-01-07T23:49:05.245485Z"
    },
    "papermill": {
     "duration": 2.473208,
     "end_time": "2024-01-07T23:49:05.249470",
     "exception": false,
     "start_time": "2024-01-07T23:49:02.776262",
     "status": "completed"
    },
    "tags": []
   },
   "outputs": [],
   "source": [
    "from sklearn.preprocessing import OneHotEncoder\n",
    "\n",
    "encoder = OneHotEncoder()\n",
    "\n",
    "y_train = encoder.fit_transform(np.array(augmented_labels).reshape(-1, 1)).toarray()\n",
    "#y_train = encoder.fit_transform(np.array(y_train).reshape(-1, 1)).toarray()\n",
    "\n",
    "y_test = encoder.transform(np.array(y_test).reshape(-1, 1)).toarray()\n",
    "from keras.applications.xception import preprocess_input\n",
    "X_train = preprocess_input(np.array(augmented_images))\n",
    "X_test = preprocess_input(np.array(X_test))"
   ]
  },
  {
   "cell_type": "code",
   "execution_count": 5,
   "id": "45d423a9",
   "metadata": {
    "execution": {
     "iopub.execute_input": "2024-01-07T23:49:05.258761Z",
     "iopub.status.busy": "2024-01-07T23:49:05.258450Z",
     "iopub.status.idle": "2024-01-07T23:49:07.835876Z",
     "shell.execute_reply": "2024-01-07T23:49:07.834636Z"
    },
    "papermill": {
     "duration": 2.585695,
     "end_time": "2024-01-07T23:49:07.839175",
     "exception": false,
     "start_time": "2024-01-07T23:49:05.253480",
     "status": "completed"
    },
    "tags": []
   },
   "outputs": [],
   "source": [
    "import keras\n",
    "from keras.layers import Conv2D, Activation, MaxPool2D, Flatten, Dense, GlobalAveragePooling2D, Dropout\n",
    "from keras.callbacks import EarlyStopping\n",
    "from keras.models import Model\n",
    "\n",
    "model=keras.applications.Xception(include_top=False, input_shape=(299, 299,3), weights='/kaggle/input/xcept-we/xception_weights_tf_dim_ordering_tf_kernels_notop.h5')\n",
    "\n",
    "    # Freeze all the layers\n",
    "for layer in model.layers[:-20]:\n",
    "    layer.trainable = False\n",
    "\n",
    "output = model.output\n",
    "#flatten layer\n",
    "\n",
    "output= GlobalAveragePooling2D()(output)\n",
    "output =Flatten()(output)\n",
    "#Fully Connection Layers\n",
    "# FC1\n",
    "\n",
    "output =Dense(512, activation=\"relu\")(output)\n",
    "output =Dense(256, activation=\"relu\")(output)\n",
    "# FC7\n",
    "output =Dense(64, activation=\"relu\")(output)\n",
    "# FC8\n",
    "output =Dense(5,activation=\"softmax\")(output)\n",
    "model = Model(model.input, output)\n",
    "CB = EarlyStopping(monitor=' val_loss', patience=3,restore_best_weights = True)"
   ]
  },
  {
   "cell_type": "code",
   "execution_count": 6,
   "id": "0566bc15",
   "metadata": {
    "execution": {
     "iopub.execute_input": "2024-01-07T23:49:07.850407Z",
     "iopub.status.busy": "2024-01-07T23:49:07.850046Z",
     "iopub.status.idle": "2024-01-07T23:59:37.754572Z",
     "shell.execute_reply": "2024-01-07T23:59:37.753773Z"
    },
    "papermill": {
     "duration": 629.912295,
     "end_time": "2024-01-07T23:59:37.757036",
     "exception": false,
     "start_time": "2024-01-07T23:49:07.844741",
     "status": "completed"
    },
    "tags": []
   },
   "outputs": [
    {
     "name": "stdout",
     "output_type": "stream",
     "text": [
      "Epoch 1/15\n",
      "177/177 [==============================] - 53s 234ms/step - loss: 0.4341 - Accuracy: 0.8371 - val_loss: 0.7891 - val_Accuracy: 0.7928\n",
      "Epoch 2/15\n",
      "177/177 [==============================] - 40s 228ms/step - loss: 0.1646 - Accuracy: 0.9412 - val_loss: 0.2321 - val_Accuracy: 0.9315\n",
      "Epoch 3/15\n",
      "177/177 [==============================] - 41s 230ms/step - loss: 0.1137 - Accuracy: 0.9626 - val_loss: 0.1942 - val_Accuracy: 0.9622\n",
      "Epoch 4/15\n",
      "177/177 [==============================] - 40s 229ms/step - loss: 0.0506 - Accuracy: 0.9817 - val_loss: 0.3101 - val_Accuracy: 0.9225\n",
      "Epoch 5/15\n",
      "177/177 [==============================] - 41s 230ms/step - loss: 0.0701 - Accuracy: 0.9804 - val_loss: 0.2089 - val_Accuracy: 0.9514\n",
      "Epoch 6/15\n",
      "177/177 [==============================] - 40s 229ms/step - loss: 0.0367 - Accuracy: 0.9912 - val_loss: 0.2627 - val_Accuracy: 0.9495\n",
      "Epoch 7/15\n",
      "177/177 [==============================] - 41s 230ms/step - loss: 0.0491 - Accuracy: 0.9884 - val_loss: 1.3355 - val_Accuracy: 0.8703\n",
      "Epoch 8/15\n",
      "177/177 [==============================] - 41s 229ms/step - loss: 0.0511 - Accuracy: 0.9874 - val_loss: 0.4242 - val_Accuracy: 0.9315\n",
      "Epoch 9/15\n",
      "177/177 [==============================] - 40s 229ms/step - loss: 0.0316 - Accuracy: 0.9928 - val_loss: 0.2905 - val_Accuracy: 0.9532\n",
      "Epoch 10/15\n",
      "177/177 [==============================] - 40s 229ms/step - loss: 0.0347 - Accuracy: 0.9907 - val_loss: 0.1084 - val_Accuracy: 0.9712\n",
      "Epoch 11/15\n",
      "177/177 [==============================] - 41s 229ms/step - loss: 0.0249 - Accuracy: 0.9938 - val_loss: 0.2910 - val_Accuracy: 0.9405\n",
      "Epoch 12/15\n",
      "177/177 [==============================] - 41s 229ms/step - loss: 0.0304 - Accuracy: 0.9928 - val_loss: 0.2587 - val_Accuracy: 0.9441\n",
      "Epoch 13/15\n",
      "177/177 [==============================] - 41s 229ms/step - loss: 0.0246 - Accuracy: 0.9954 - val_loss: 0.2005 - val_Accuracy: 0.9748\n",
      "Epoch 14/15\n",
      "177/177 [==============================] - 41s 229ms/step - loss: 0.0115 - Accuracy: 0.9972 - val_loss: 0.2186 - val_Accuracy: 0.9568\n",
      "Epoch 15/15\n",
      "177/177 [==============================] - 41s 229ms/step - loss: 0.0338 - Accuracy: 0.9933 - val_loss: 0.4931 - val_Accuracy: 0.9153\n"
     ]
    }
   ],
   "source": [
    "model.compile(optimizer='rmsprop',loss='categorical_crossentropy', metrics=['Accuracy'])\n",
    "history = model.fit(X_train, y_train ,  epochs=15, batch_size=22 ,validation_data=(X_test,y_test),callbacks=[CB])"
   ]
  },
  {
   "cell_type": "code",
   "execution_count": 7,
   "id": "b5196f82",
   "metadata": {
    "execution": {
     "iopub.execute_input": "2024-01-07T23:59:38.229909Z",
     "iopub.status.busy": "2024-01-07T23:59:38.229530Z",
     "iopub.status.idle": "2024-01-07T23:59:46.524681Z",
     "shell.execute_reply": "2024-01-07T23:59:46.523527Z"
    },
    "papermill": {
     "duration": 8.533057,
     "end_time": "2024-01-07T23:59:46.526875",
     "exception": false,
     "start_time": "2024-01-07T23:59:37.993818",
     "status": "completed"
    },
    "tags": []
   },
   "outputs": [
    {
     "name": "stdout",
     "output_type": "stream",
     "text": [
      "18/18 [==============================] - 8s 281ms/step - loss: 0.4931 - Accuracy: 0.9153\n"
     ]
    },
    {
     "data": {
      "text/plain": [
       "[0.49308720231056213, 0.9153153300285339]"
      ]
     },
     "execution_count": 7,
     "metadata": {},
     "output_type": "execute_result"
    }
   ],
   "source": [
    "model.evaluate(X_test,y_test)"
   ]
  },
  {
   "cell_type": "code",
   "execution_count": 8,
   "id": "8ca3c618",
   "metadata": {
    "execution": {
     "iopub.execute_input": "2024-01-07T23:59:47.024976Z",
     "iopub.status.busy": "2024-01-07T23:59:47.024555Z",
     "iopub.status.idle": "2024-01-07T23:59:52.269657Z",
     "shell.execute_reply": "2024-01-07T23:59:52.268237Z"
    },
    "papermill": {
     "duration": 5.508421,
     "end_time": "2024-01-07T23:59:52.272033",
     "exception": false,
     "start_time": "2024-01-07T23:59:46.763612",
     "status": "completed"
    },
    "tags": []
   },
   "outputs": [
    {
     "name": "stdout",
     "output_type": "stream",
     "text": [
      "18/18 [==============================] - 5s 223ms/step\n",
      "0.9153153153153153\n",
      "                 precision    recall  f1-score   support\n",
      "\n",
      "      pneumonia       1.00      0.19      0.33        36\n",
      "   Normal cases       1.00      1.00      1.00       144\n",
      "   Bengin cases       0.99      0.91      0.95       151\n",
      "Malignant cases       0.81      0.97      0.88       125\n",
      "         Corona       0.85      1.00      0.92        99\n",
      "\n",
      "       accuracy                           0.92       555\n",
      "      macro avg       0.93      0.81      0.81       555\n",
      "   weighted avg       0.93      0.92      0.90       555\n",
      "\n"
     ]
    }
   ],
   "source": [
    "y_pred=model.predict(X_test)\n",
    "y_pred=np.argmax(y_pred, axis=1)\n",
    "y_test=np.argmax(y_test, axis=1)\n",
    "from sklearn.metrics import classification_report\n",
    "from sklearn.metrics import accuracy_score\n",
    "print(accuracy_score(y_test, y_pred))\n",
    "print(classification_report(y_test, y_pred, target_names=class_names))"
   ]
  }
 ],
 "metadata": {
  "kaggle": {
   "accelerator": "nvidiaTeslaT4",
   "dataSources": [
    {
     "datasetId": 4273924,
     "sourceId": 7358248,
     "sourceType": "datasetVersion"
    },
    {
     "datasetId": 4273969,
     "sourceId": 7358331,
     "sourceType": "datasetVersion"
    }
   ],
   "dockerImageVersionId": 30626,
   "isGpuEnabled": true,
   "isInternetEnabled": false,
   "language": "python",
   "sourceType": "notebook"
  },
  "kernelspec": {
   "display_name": "Python 3",
   "language": "python",
   "name": "python3"
  },
  "language_info": {
   "codemirror_mode": {
    "name": "ipython",
    "version": 3
   },
   "file_extension": ".py",
   "mimetype": "text/x-python",
   "name": "python",
   "nbconvert_exporter": "python",
   "pygments_lexer": "ipython3",
   "version": "3.10.12"
  },
  "papermill": {
   "default_parameters": {},
   "duration": 768.896626,
   "end_time": "2024-01-07T23:59:56.153820",
   "environment_variables": {},
   "exception": null,
   "input_path": "__notebook__.ipynb",
   "output_path": "__notebook__.ipynb",
   "parameters": {},
   "start_time": "2024-01-07T23:47:07.257194",
   "version": "2.4.0"
  }
 },
 "nbformat": 4,
 "nbformat_minor": 5
}
